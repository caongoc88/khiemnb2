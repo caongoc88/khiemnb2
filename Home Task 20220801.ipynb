{
 "cells": [
  {
   "cell_type": "code",
   "execution_count": 42,
   "id": "2bce85a1",
   "metadata": {},
   "outputs": [
    {
     "name": "stdout",
     "output_type": "stream",
     "text": [
      "Nhập mã hàng hoá: 4902778120972\n",
      "F = 2\n",
      "4902778120972 là mã vạch đúng\n"
     ]
    }
   ],
   "source": [
    "# TASK 1: Một vã vạch hàng hóa là một chuỗi có 13 chữ số, chữ số cuối cùng gọi là chữ số kiểm tra C.\n",
    "# Gọi A là tổng các chữ số ở vị trí lẻ (trừ chữ số kiểm tra C). Gọi B là tổng các chữ số ở vị trí chẵn. \n",
    "# Gọi D = A + 3B. Nếu phần dư của D chia cho 10 khác không thì F=10-phần dư, ngược lại F = 0. \n",
    "# Một mã vạch được coi là mã vạch đúng nếu F=C. Viết phần mềm kiểm tra tính đúng đắn của một mã vạch nhập vào.\n",
    "# Ví dụ: 4902778120972 là 1 mã vạch đúng, 4902778120973 là không phải mã vạch.\n",
    "\n",
    "n=str(input('Nhập mã hàng hoá: '))\n",
    "i=0\n",
    "A=0\n",
    "B=0\n",
    "if len(n) <13 or len(n)>13:\n",
    "    print('Chuỗi không phải mã vạch')\n",
    "else:\n",
    "    while i<len(n)-2:\n",
    "        A+=int(n[i])\n",
    "        i+=1\n",
    "        B+=int(n[i])\n",
    "        i+=1\n",
    "    D = A + 3* B\n",
    "    F = 10-D%10 if D%10!=0 else 0\n",
    "    print(f\"F = {F}\")\n",
    "    if F == int(n[12]):\n",
    "        print(f\"{n} là mã vạch đúng\")\n",
    "    else:\n",
    "        print(f\"{n} không phải mã vạch\")\n"
   ]
  },
  {
   "cell_type": "code",
   "execution_count": 48,
   "id": "e86367b6",
   "metadata": {},
   "outputs": [
    {
     "name": "stdout",
     "output_type": "stream",
     "text": [
      "Nhập số N: 123\n",
      "3 9 15 21 27 33 39 45 51 57 63 69 75 81 87 93 99 105 111 117 "
     ]
    }
   ],
   "source": [
    "# TASK 2: Nhập vào một số tự nhiên N. \n",
    "# In ra màn hình tất cả các số nhỏ hơn N và những số này chia kết cho 3 nhưng không chia hết cho 6\n",
    "N=int(input('Nhập số N: '))\n",
    "i=0\n",
    "while i<N:\n",
    "    if i%3==0 and i%6!=0:\n",
    "        print(i, end = \" \")\n",
    "    i+=1\n",
    "        "
   ]
  },
  {
   "cell_type": "code",
   "execution_count": null,
   "id": "72d9486c",
   "metadata": {},
   "outputs": [],
   "source": []
  }
 ],
 "metadata": {
  "kernelspec": {
   "display_name": "Python 3 (ipykernel)",
   "language": "python",
   "name": "python3"
  },
  "language_info": {
   "codemirror_mode": {
    "name": "ipython",
    "version": 3
   },
   "file_extension": ".py",
   "mimetype": "text/x-python",
   "name": "python",
   "nbconvert_exporter": "python",
   "pygments_lexer": "ipython3",
   "version": "3.8.7"
  }
 },
 "nbformat": 4,
 "nbformat_minor": 5
}
