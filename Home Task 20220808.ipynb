{
 "cells": [
  {
   "cell_type": "code",
   "execution_count": 25,
   "id": "71403f18",
   "metadata": {},
   "outputs": [
    {
     "name": "stdout",
     "output_type": "stream",
     "text": [
      "Nguyen binh Khiem\n"
     ]
    }
   ],
   "source": [
    "#Task1: Viết chương trình xoá dấu tiếng việt của 1 chuỗi \n",
    "vi = 'ÀÁÂÃÈÉÊÌÍÒÓÔÕÙÚÝàáâãèéêìíòóôõùúýĂăĐđĨĩŨũƠơƯưẠạẢảẤấẦầẨẩẪẫẬậẮắẰằẲẳẴẵẶặẸẹẺẻẼẽẾếỀềỂểỄễỆệỈỉỊịỌọỎỏỐốỒồỔổỖỗỘộỚớỜờỞởỠỡỢợỤụỦủỨứỪừỬửỮữỰựỲỳỴỵỶỷỸỹ'\n",
    "en = 'AAAAEEEIIOOOOUUYaaaaeeeiioooouuyAaDdIiUuOoUuAaAaAaAaAaAaAaAaAaAaAaAaEeEeEeEeEeEeEeEeIiIiOoOoOoOoOoOoOoOoOoOoOoOoUuUuUuUuUuUuUuYyYyYyYy'\n",
    "string = str('Nguyễn bỉnh Khiêm')\n",
    "newstring =''\n",
    "for i in string:\n",
    "    if i in vi:\n",
    "        j=en[vi.index(i)]\n",
    "        newstring+=j\n",
    "    else:\n",
    "        newstring+=i\n",
    "print(newstring)"
   ]
  },
  {
   "cell_type": "code",
   "execution_count": 37,
   "id": "9d4f27c9",
   "metadata": {},
   "outputs": [
    {
     "name": "stdout",
     "output_type": "stream",
     "text": [
      "[[0, 0, 1, 2, 3, 4, 5], [6, 7, 8, 9, 10, 11, 12], [13, 14, 15, 16, 17, 18, 19], [20, 21, 22, 23, 24, 25, 26], [27, 28, 29, 30, 0, 0, 0]]\n",
      "Có 2 tuần lẻ\n",
      "Có 3 tuần chẵn\n"
     ]
    }
   ],
   "source": [
    "#Task 2: Nhâp vào tháng trong năm. Check có bn tuẩn chẵn (có đủ 7 ngày), có bn tuần lẻ(ko đủ 7 ngày)\n",
    "import calendar\n",
    "month = calendar.monthcalendar(2022,6)\n",
    "print(month)\n",
    "x=0\n",
    "y=0\n",
    "for i in month:\n",
    "    a=0\n",
    "    for j in i:\n",
    "        if j == 0:\n",
    "            a+=1\n",
    "    if a>0:\n",
    "        x+=1\n",
    "    else:\n",
    "        y+=1\n",
    "print(f\"Có {x} tuần lẻ\")\n",
    "print(f\"Có {y} tuần chẵn\")"
   ]
  },
  {
   "cell_type": "code",
   "execution_count": null,
   "id": "588fc9af",
   "metadata": {},
   "outputs": [],
   "source": []
  }
 ],
 "metadata": {
  "kernelspec": {
   "display_name": "Python 3 (ipykernel)",
   "language": "python",
   "name": "python3"
  },
  "language_info": {
   "codemirror_mode": {
    "name": "ipython",
    "version": 3
   },
   "file_extension": ".py",
   "mimetype": "text/x-python",
   "name": "python",
   "nbconvert_exporter": "python",
   "pygments_lexer": "ipython3",
   "version": "3.8.7"
  }
 },
 "nbformat": 4,
 "nbformat_minor": 5
}
