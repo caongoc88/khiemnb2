{
 "cells": [
  {
   "cell_type": "code",
   "execution_count": 15,
   "id": "a91d2f3c",
   "metadata": {},
   "outputs": [
    {
     "name": "stdout",
     "output_type": "stream",
     "text": [
      "Tổng thu nhập:40\n",
      "Số người phụ thuộc:1\n",
      "Thuế phải nộp: 3.27 tr\n"
     ]
    }
   ],
   "source": [
    "#### Home task 1: Tính thuế thu nhập cá nhân\n",
    "# -Giảm trừ gia cảnh bản thân: 11tr\n",
    "# -Giảm trừ người phụ thuộc: 4.4 tr\n",
    "# -Biểu thuế luỹ tiến:\n",
    "#     +Từ 0-5tr: 5%\n",
    "#     +Từ 5-10tr:10%\n",
    "#     +Từ 10-18: 15%\n",
    "#     +Từ 18-32: 20%\n",
    "#     +Từ 32-52: 25%\n",
    "#     +Từ 52-80: 30%\n",
    "#     +Trên 80: 35%\n",
    "TTT = int(input('Tổng thu nhập:'))\n",
    "NPT = int(input('Số người phụ thuộc:'))\n",
    "if TTT <0 or NPT < 0:\n",
    "    print('Dữ liệu không hợp lệ')\n",
    "else:\n",
    "    TNTT = TTT - 11 - NPT*4.4\n",
    "    if TNTT <0:\n",
    "        print('Không phải nộp thuế')\n",
    "    else:\n",
    "        if TNTT<=5:\n",
    "            TPN = TNTT*5     \n",
    "        elif TNTT<=10:\n",
    "            TPN = 5*5 + (TNTT-5)*10\n",
    "        elif TNTT<=18:\n",
    "            TPN = 5*5 + 5*10 + (TNTT-10)*15\n",
    "        elif TNTT<=32:\n",
    "            TPN = 5*5 + 5*10 + 8*15 + (TNTT-18)*20\n",
    "        elif TNTT<=52:\n",
    "            TPN = 5*5 + 5*10 + 8*15 + 14*20 + (TNTT-32)*25\n",
    "        elif TNTT<=80:\n",
    "            TPN = 5*5 + 5*10 + 8*15 + 14*20 + 20*25 + (TNTT-52)*30\n",
    "        elif TNTT>80:\n",
    "            TPN = 5*5 + 5*10 + 8*15 + 14*20 + 20*25 + 28*30 + (TNTT-80)*35\n",
    "        print(f\"Thuế phải nộp: {TPN/100} tr\")\n"
   ]
  },
  {
   "cell_type": "code",
   "execution_count": 25,
   "id": "90dc76b4",
   "metadata": {},
   "outputs": [
    {
     "name": "stdout",
     "output_type": "stream",
     "text": [
      "Toạ độ x:1\n",
      "Toạ độ y:7\n",
      "Điểm P nằm NGOÀI vùng xác định\n"
     ]
    }
   ],
   "source": [
    "#### Home task 2: Xác định điêm P(x,y) trên trục toạ độ x,y có nằm trong vùng giới hạn bởi 3 đường sau hay không:\n",
    "# -Đường thẳng 1: Y = -3X + 6\n",
    "# -Đường thẳng 2: Y = 3X + 6\n",
    "# -Nửa đường tròn R = 2, tâm O, Y<0\n",
    "x = int(input('Toạ độ x:'))\n",
    "y = int(input('Toạ độ y:'))\n",
    "c = f\"Điểm P nằm TRONG vùng xác định\"\n",
    "k = f\"Điểm P nằm NGOÀI vùng xác định\"\n",
    "\n",
    "if y <=0:\n",
    "    p= c if y >= -2 and -2<=x<=2 else k\n",
    "elif y > 0:\n",
    "    p = c if (0<= x <=2 and y <= -3*x + 6) or (0>= x >=-2 and y <= 3*x + 6) else k\n",
    "print(p)\n",
    "        \n",
    "    "
   ]
  },
  {
   "cell_type": "code",
   "execution_count": null,
   "id": "81b19157",
   "metadata": {},
   "outputs": [],
   "source": []
  },
  {
   "cell_type": "code",
   "execution_count": null,
   "id": "26e3d26b",
   "metadata": {},
   "outputs": [],
   "source": []
  }
 ],
 "metadata": {
  "kernelspec": {
   "display_name": "Python 3 (ipykernel)",
   "language": "python",
   "name": "python3"
  },
  "language_info": {
   "codemirror_mode": {
    "name": "ipython",
    "version": 3
   },
   "file_extension": ".py",
   "mimetype": "text/x-python",
   "name": "python",
   "nbconvert_exporter": "python",
   "pygments_lexer": "ipython3",
   "version": "3.8.7"
  }
 },
 "nbformat": 4,
 "nbformat_minor": 5
}
